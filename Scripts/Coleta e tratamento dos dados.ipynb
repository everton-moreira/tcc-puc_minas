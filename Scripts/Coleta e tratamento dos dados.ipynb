{
 "cells": [
  {
   "cell_type": "markdown",
   "metadata": {},
   "source": [
    "# Coleta e tratamento dos datasets"
   ]
  },
  {
   "cell_type": "markdown",
   "metadata": {},
   "source": [
    "Nessa seção será demonstrada a captura das informações baixadas no Kaggle:\n",
    "\n",
    "https://www.kaggle.com/unanimad/tweets-from-brasil-presidential-candidates-2018"
   ]
  },
  {
   "cell_type": "code",
   "execution_count": 1,
   "metadata": {},
   "outputs": [],
   "source": [
    "#IMPORTA LIBRARIES\n",
    "import os\n",
    "import pandas as pd\n",
    "import numpy as np"
   ]
  },
  {
   "cell_type": "code",
   "execution_count": 2,
   "metadata": {},
   "outputs": [],
   "source": [
    "#local dos datasets\n",
    "folder_name = \"D:\\\\PUC_MINAS\\\\TCC\\\\Dataset\\\\tweets\"\n",
    "\n",
    "#função para listar aquivos\n",
    "def lista_arquivos():\n",
    "    list_files = []\n",
    "    for file in os.listdir(folder_name):\n",
    "        list_files.append(file)\n",
    "    return list_files   \n",
    "\n",
    "#recebe todos as linhas\n",
    "files = lista_arquivos()"
   ]
  },
  {
   "cell_type": "code",
   "execution_count": 3,
   "metadata": {},
   "outputs": [
    {
     "name": "stdout",
     "output_type": "stream",
     "text": [
      "Lista de datasets para a pesquisa: \n",
      " ['alvarodias__election_tweets.csv', 'cabodaciolo_election_tweets.csv', 'cirogomes_election_tweets.csv', 'eymaeloficial_election_tweets.csv', 'geraldoalckmin_election_tweets.csv', 'guilhermeboulos_election_tweets.csv', 'haddad_fernando_election_tweets.csv', 'jairbolsonaro_election_tweets.csv', 'joaoamoedonovo_election_tweets.csv', 'joaogoulart54_election_tweets.csv', 'lulaoficial_election_tweets.csv', 'marinasilva_election_tweets.csv', 'meirelles_election_tweets.csv', 'verapstu_election_tweets.csv']\n",
      "\n",
      "Total de 14 arquivos importados.\n"
     ]
    }
   ],
   "source": [
    "#lista de datasets utilizados na pesquisa\n",
    "print('Lista de datasets para a pesquisa: \\n {}\\n'.format(files))\n",
    "print('Total de {} arquivos importados.'.format(len(files)))"
   ]
  },
  {
   "cell_type": "code",
   "execution_count": 4,
   "metadata": {},
   "outputs": [],
   "source": [
    "#Os campos são separados por \";\". No entanto, existem esses caracteres no campo de mensagem\n",
    "#Optou-se por usar a biblioteca csv, ao invés do pandas\n",
    "#importar linhas\n",
    "import csv\n",
    "def importa_linhas():\n",
    "    list_rows = []\n",
    "    for file in files:\n",
    "        with open(folder_name + \"\\\\\" + file, \"r\", encoding='utf-8') as f:\n",
    "            rows = csv.reader(f, delimiter=';')\n",
    "            for i, row in enumerate(rows):\n",
    "                no_user = file.split('_')\n",
    "                row.append(no_user[0])\n",
    "                if(i > 0):\n",
    "                    list_rows.append(row)\n",
    "    return list_rows\n",
    "rows = importa_linhas()\n",
    "df = pd.DataFrame(rows, columns = ['id','data_msg','tweet','num_retweets','num_likes','user'])"
   ]
  },
  {
   "cell_type": "code",
   "execution_count": 5,
   "metadata": {},
   "outputs": [
    {
     "data": {
      "text/html": [
       "<div>\n",
       "<style scoped>\n",
       "    .dataframe tbody tr th:only-of-type {\n",
       "        vertical-align: middle;\n",
       "    }\n",
       "\n",
       "    .dataframe tbody tr th {\n",
       "        vertical-align: top;\n",
       "    }\n",
       "\n",
       "    .dataframe thead th {\n",
       "        text-align: right;\n",
       "    }\n",
       "</style>\n",
       "<table border=\"1\" class=\"dataframe\">\n",
       "  <thead>\n",
       "    <tr style=\"text-align: right;\">\n",
       "      <th></th>\n",
       "      <th>id</th>\n",
       "      <th>data_msg</th>\n",
       "      <th>tweet</th>\n",
       "      <th>num_retweets</th>\n",
       "      <th>num_likes</th>\n",
       "      <th>user</th>\n",
       "    </tr>\n",
       "  </thead>\n",
       "  <tbody>\n",
       "    <tr>\n",
       "      <th>0</th>\n",
       "      <td>1056291241384644609</td>\n",
       "      <td>2018-10-27 21:07:11</td>\n",
       "      <td>NAÇÃO BRASILEIRA.                         Conh...</td>\n",
       "      <td>55</td>\n",
       "      <td>839</td>\n",
       "      <td>cabodaciolo</td>\n",
       "    </tr>\n",
       "    <tr>\n",
       "      <th>1</th>\n",
       "      <td>1056084752371933184</td>\n",
       "      <td>2018-10-27 07:26:40</td>\n",
       "      <td>Seguirei o caminho da integridade;quando virás...</td>\n",
       "      <td>59</td>\n",
       "      <td>1094</td>\n",
       "      <td>cabodaciolo</td>\n",
       "    </tr>\n",
       "    <tr>\n",
       "      <th>2</th>\n",
       "      <td>1053461920639057920</td>\n",
       "      <td>2018-10-20 01:44:28</td>\n",
       "      <td>https://t.co/BvTWDIZdiO</td>\n",
       "      <td>893</td>\n",
       "      <td>6128</td>\n",
       "      <td>cabodaciolo</td>\n",
       "    </tr>\n",
       "    <tr>\n",
       "      <th>3</th>\n",
       "      <td>1053461098169622529</td>\n",
       "      <td>2018-10-20 01:41:12</td>\n",
       "      <td>Voto em cédulas JÁ!Glória a Deus https://t.co/...</td>\n",
       "      <td>107</td>\n",
       "      <td>871</td>\n",
       "      <td>cabodaciolo</td>\n",
       "    </tr>\n",
       "    <tr>\n",
       "      <th>4</th>\n",
       "      <td>1053071583286386689</td>\n",
       "      <td>2018-10-18 23:53:25</td>\n",
       "      <td>@isamovitz Deus abençoe</td>\n",
       "      <td>0</td>\n",
       "      <td>12</td>\n",
       "      <td>cabodaciolo</td>\n",
       "    </tr>\n",
       "  </tbody>\n",
       "</table>\n",
       "</div>"
      ],
      "text/plain": [
       "                    id             data_msg  \\\n",
       "0  1056291241384644609  2018-10-27 21:07:11   \n",
       "1  1056084752371933184  2018-10-27 07:26:40   \n",
       "2  1053461920639057920  2018-10-20 01:44:28   \n",
       "3  1053461098169622529  2018-10-20 01:41:12   \n",
       "4  1053071583286386689  2018-10-18 23:53:25   \n",
       "\n",
       "                                               tweet num_retweets num_likes  \\\n",
       "0  NAÇÃO BRASILEIRA.                         Conh...           55       839   \n",
       "1  Seguirei o caminho da integridade;quando virás...           59      1094   \n",
       "2                            https://t.co/BvTWDIZdiO          893      6128   \n",
       "3  Voto em cédulas JÁ!Glória a Deus https://t.co/...          107       871   \n",
       "4                            @isamovitz Deus abençoe            0        12   \n",
       "\n",
       "          user  \n",
       "0  cabodaciolo  \n",
       "1  cabodaciolo  \n",
       "2  cabodaciolo  \n",
       "3  cabodaciolo  \n",
       "4  cabodaciolo  "
      ]
     },
     "execution_count": 5,
     "metadata": {},
     "output_type": "execute_result"
    }
   ],
   "source": [
    "#Mostra as primeiras linhas do dataset\n",
    "df.head()"
   ]
  },
  {
   "cell_type": "code",
   "execution_count": 6,
   "metadata": {},
   "outputs": [
    {
     "name": "stdout",
     "output_type": "stream",
     "text": [
      "Total de 12286 linhas importadas.\n"
     ]
    }
   ],
   "source": [
    "#Quantidade de linhas importadas\n",
    "print('Total de {} linhas importadas.'.format(len(df)))"
   ]
  },
  {
   "cell_type": "code",
   "execution_count": 7,
   "metadata": {},
   "outputs": [
    {
     "name": "stdout",
     "output_type": "stream",
     "text": [
      "<class 'pandas.core.frame.DataFrame'>\n",
      "RangeIndex: 12286 entries, 0 to 12285\n",
      "Data columns (total 6 columns):\n",
      " #   Column        Non-Null Count  Dtype \n",
      "---  ------        --------------  ----- \n",
      " 0   id            12286 non-null  object\n",
      " 1   data_msg      12286 non-null  object\n",
      " 2   tweet         12286 non-null  object\n",
      " 3   num_retweets  12286 non-null  object\n",
      " 4   num_likes     12286 non-null  object\n",
      " 5   user          12286 non-null  object\n",
      "dtypes: object(6)\n",
      "memory usage: 576.0+ KB\n"
     ]
    }
   ],
   "source": [
    "#verifica se há linhas com dados vazios\n",
    "df.info()"
   ]
  },
  {
   "cell_type": "code",
   "execution_count": 8,
   "metadata": {},
   "outputs": [
    {
     "data": {
      "text/plain": [
       "False    12286\n",
       "dtype: int64"
      ]
     },
     "execution_count": 8,
     "metadata": {},
     "output_type": "execute_result"
    }
   ],
   "source": [
    "#verifica se há dados duplicados\n",
    "df.duplicated().value_counts()"
   ]
  },
  {
   "cell_type": "markdown",
   "metadata": {},
   "source": [
    "### Foi tratada a coluna created_at para poder trabalhar com o tipo data"
   ]
  },
  {
   "cell_type": "code",
   "execution_count": 9,
   "metadata": {},
   "outputs": [],
   "source": [
    "def dia_da_semana(week_day):\n",
    "    week_days = ['Sunday','Monday', 'Tuesday', 'Wednesday', 'Thursday', 'Friday', 'Saturday']\n",
    "    l_dias_semana = ['Dom','Seg','Ter','Qua','Qui','Sex','Sab']\n",
    "    dias_semana = []\n",
    "    for wd in week_day:\n",
    "        idx = 0\n",
    "        for w in week_days:\n",
    "            if(w == wd):\n",
    "                dias_semana.append(l_dias_semana[idx])\n",
    "            idx = idx + 1\n",
    "    return dias_semana"
   ]
  },
  {
   "cell_type": "code",
   "execution_count": 10,
   "metadata": {},
   "outputs": [],
   "source": [
    "def data_resumida(data):\n",
    "    data_resumo = []\n",
    "    for d in data:\n",
    "        dt = d.split(' ')\n",
    "        dt = dt[0].split('-')\n",
    "        dt = dt[2] + '/' + dt[1]\n",
    "        data_resumo.append(dt)\n",
    "    return data_resumo"
   ]
  },
  {
   "cell_type": "code",
   "execution_count": 11,
   "metadata": {},
   "outputs": [],
   "source": [
    "#Tratar data e hora\n",
    "df = df.copy()\n",
    "#Novas colunas\n",
    "df.loc[:, 'data'] = df.data_msg.astype('datetime64[D]')\n",
    "df.loc[:, 'data_resumo'] = data_resumida(df.data_msg)\n",
    "df.loc[:, 'dia_semana'] = dia_da_semana(df.data.dt.day_name())"
   ]
  },
  {
   "cell_type": "markdown",
   "metadata": {},
   "source": [
    "### Foi feito um tratamento para retirar referências a links nas mensagens"
   ]
  },
  {
   "cell_type": "code",
   "execution_count": 12,
   "metadata": {},
   "outputs": [],
   "source": [
    "df.loc[:, 'mensagem'] = df.tweet.apply(lambda x: ' '.join(list([r for r in x.split(' ') if(r[0:4]!='http')])))"
   ]
  },
  {
   "cell_type": "markdown",
   "metadata": {},
   "source": [
    "### Excluir colunas desnecessárias para o estudo"
   ]
  },
  {
   "cell_type": "code",
   "execution_count": 13,
   "metadata": {},
   "outputs": [
    {
     "data": {
      "text/html": [
       "<div>\n",
       "<style scoped>\n",
       "    .dataframe tbody tr th:only-of-type {\n",
       "        vertical-align: middle;\n",
       "    }\n",
       "\n",
       "    .dataframe tbody tr th {\n",
       "        vertical-align: top;\n",
       "    }\n",
       "\n",
       "    .dataframe thead th {\n",
       "        text-align: right;\n",
       "    }\n",
       "</style>\n",
       "<table border=\"1\" class=\"dataframe\">\n",
       "  <thead>\n",
       "    <tr style=\"text-align: right;\">\n",
       "      <th></th>\n",
       "      <th>tweet</th>\n",
       "      <th>num_retweets</th>\n",
       "      <th>num_likes</th>\n",
       "      <th>user</th>\n",
       "      <th>data</th>\n",
       "      <th>data_resumo</th>\n",
       "      <th>dia_semana</th>\n",
       "      <th>mensagem</th>\n",
       "    </tr>\n",
       "  </thead>\n",
       "  <tbody>\n",
       "    <tr>\n",
       "      <th>0</th>\n",
       "      <td>NAÇÃO BRASILEIRA.                         Conh...</td>\n",
       "      <td>55</td>\n",
       "      <td>839</td>\n",
       "      <td>cabodaciolo</td>\n",
       "      <td>2018-10-27</td>\n",
       "      <td>27/10</td>\n",
       "      <td>Sab</td>\n",
       "      <td>NAÇÃO BRASILEIRA.                         Conh...</td>\n",
       "    </tr>\n",
       "    <tr>\n",
       "      <th>1</th>\n",
       "      <td>Seguirei o caminho da integridade;quando virás...</td>\n",
       "      <td>59</td>\n",
       "      <td>1094</td>\n",
       "      <td>cabodaciolo</td>\n",
       "      <td>2018-10-27</td>\n",
       "      <td>27/10</td>\n",
       "      <td>Sab</td>\n",
       "      <td>Seguirei o caminho da integridade;quando virás...</td>\n",
       "    </tr>\n",
       "    <tr>\n",
       "      <th>2</th>\n",
       "      <td>https://t.co/BvTWDIZdiO</td>\n",
       "      <td>893</td>\n",
       "      <td>6128</td>\n",
       "      <td>cabodaciolo</td>\n",
       "      <td>2018-10-20</td>\n",
       "      <td>20/10</td>\n",
       "      <td>Sab</td>\n",
       "      <td></td>\n",
       "    </tr>\n",
       "    <tr>\n",
       "      <th>3</th>\n",
       "      <td>Voto em cédulas JÁ!Glória a Deus https://t.co/...</td>\n",
       "      <td>107</td>\n",
       "      <td>871</td>\n",
       "      <td>cabodaciolo</td>\n",
       "      <td>2018-10-20</td>\n",
       "      <td>20/10</td>\n",
       "      <td>Sab</td>\n",
       "      <td>Voto em cédulas JÁ!Glória a Deus</td>\n",
       "    </tr>\n",
       "    <tr>\n",
       "      <th>4</th>\n",
       "      <td>@isamovitz Deus abençoe</td>\n",
       "      <td>0</td>\n",
       "      <td>12</td>\n",
       "      <td>cabodaciolo</td>\n",
       "      <td>2018-10-18</td>\n",
       "      <td>18/10</td>\n",
       "      <td>Qui</td>\n",
       "      <td>@isamovitz Deus abençoe</td>\n",
       "    </tr>\n",
       "  </tbody>\n",
       "</table>\n",
       "</div>"
      ],
      "text/plain": [
       "                                               tweet num_retweets num_likes  \\\n",
       "0  NAÇÃO BRASILEIRA.                         Conh...           55       839   \n",
       "1  Seguirei o caminho da integridade;quando virás...           59      1094   \n",
       "2                            https://t.co/BvTWDIZdiO          893      6128   \n",
       "3  Voto em cédulas JÁ!Glória a Deus https://t.co/...          107       871   \n",
       "4                            @isamovitz Deus abençoe            0        12   \n",
       "\n",
       "          user       data data_resumo dia_semana  \\\n",
       "0  cabodaciolo 2018-10-27       27/10        Sab   \n",
       "1  cabodaciolo 2018-10-27       27/10        Sab   \n",
       "2  cabodaciolo 2018-10-20       20/10        Sab   \n",
       "3  cabodaciolo 2018-10-20       20/10        Sab   \n",
       "4  cabodaciolo 2018-10-18       18/10        Qui   \n",
       "\n",
       "                                            mensagem  \n",
       "0  NAÇÃO BRASILEIRA.                         Conh...  \n",
       "1  Seguirei o caminho da integridade;quando virás...  \n",
       "2                                                     \n",
       "3                   Voto em cédulas JÁ!Glória a Deus  \n",
       "4                            @isamovitz Deus abençoe  "
      ]
     },
     "execution_count": 13,
     "metadata": {},
     "output_type": "execute_result"
    }
   ],
   "source": [
    "#Excluir algumas colunas desnecessárias\n",
    "df.drop(columns=['id','data_msg'], inplace=True)\n",
    "df.head()"
   ]
  },
  {
   "cell_type": "markdown",
   "metadata": {},
   "source": [
    "### Criar novo arquivo após tratamento"
   ]
  },
  {
   "cell_type": "code",
   "execution_count": 14,
   "metadata": {},
   "outputs": [],
   "source": [
    "df.to_csv('../Dataset/tweet_candidatos_eleicoes_2018.csv', sep=';', index=False)"
   ]
  }
 ],
 "metadata": {
  "kernelspec": {
   "display_name": "Python 3",
   "language": "python",
   "name": "python3"
  },
  "language_info": {
   "codemirror_mode": {
    "name": "ipython",
    "version": 3
   },
   "file_extension": ".py",
   "mimetype": "text/x-python",
   "name": "python",
   "nbconvert_exporter": "python",
   "pygments_lexer": "ipython3",
   "version": "3.8.5"
  }
 },
 "nbformat": 4,
 "nbformat_minor": 4
}
